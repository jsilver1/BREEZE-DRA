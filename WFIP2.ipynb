{
 "cells": [
  {
   "cell_type": "code",
   "execution_count": 1,
   "metadata": {},
   "outputs": [
    {
     "name": "stdout",
     "output_type": "stream",
     "text": [
      "done.\n"
     ]
    }
   ],
   "source": [
    "import os\n",
    "import xarray as xr\n",
    "import pandas as pd\n",
    "import netCDF4 as nc\n",
    "from datetime import timedelta, datetime\n",
    "import netCDF4\n",
    "from xarray import DataArray\n",
    "import scipy.io as sio # For dealing with mat data\n",
    "import matplotlib.pyplot as plt\n",
    "import mat73 # Another way to deal with mat data\n",
    "import numpy as np\n",
    "import glob\n",
    "\n",
    "\n",
    "print(\"done.\")"
   ]
  },
  {
   "cell_type": "code",
   "execution_count": 16,
   "metadata": {},
   "outputs": [
    {
     "name": "stdout",
     "output_type": "stream",
     "text": [
      "done.\n"
     ]
    }
   ],
   "source": [
    "### open mat files\n",
    "path=\"./WFIP2/\"\n",
    "\n",
    "ds1=mat73.loadmat(path + \"Eps_v2_Gordons_Ridge.mat\")\n",
    "ds2=mat73.loadmat(path + \"Eps_v2_Vansycle_Ridge.mat\")\n",
    "ds3=mat73.loadmat(path + \"Eps_v1_68_Wasco.mat\")\n",
    "ds4=mat73.loadmat(path + \"Eps_v1_49_ Troutdale.mat\")\n",
    "ds5=sio.loadmat(path + \"Eps_StrFun_P03_10m_sonic.mat\")\n",
    "ds6=sio.loadmat(path + \"Eps_StrFun_P04_10m_sonic.mat\")\n",
    "ds7=sio.loadmat(path + \"Eps_StrFun_P05_10m_sonic.mat\")\n",
    "ds8=sio.loadmat(path + \"Eps_StrFun_P10_10m_sonic.mat\")\n",
    "ds9=sio.loadmat(path + \"Eps_StrFun_P09_10m_sonic.mat\")\n",
    "ds10=sio.loadmat(path + \"Eps_StrFun_P12_80m_sonic.mat\")\n",
    "\n",
    "### next step\n",
    "\n",
    "\n",
    "print(\"done.\")"
   ]
  },
  {
   "cell_type": "code",
   "execution_count": null,
   "metadata": {},
   "outputs": [],
   "source": []
  }
 ],
 "metadata": {
  "kernelspec": {
   "display_name": "tutorial_2020",
   "language": "python",
   "name": "tutorial_2020"
  },
  "language_info": {
   "codemirror_mode": {
    "name": "ipython",
    "version": 3
   },
   "file_extension": ".py",
   "mimetype": "text/x-python",
   "name": "python",
   "nbconvert_exporter": "python",
   "pygments_lexer": "ipython3",
   "version": "3.7.8"
  }
 },
 "nbformat": 4,
 "nbformat_minor": 4
}
